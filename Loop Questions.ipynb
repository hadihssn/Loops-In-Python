{
 "cells": [
  {
   "cell_type": "markdown",
   "id": "fff42ec6",
   "metadata": {},
   "source": [
    "# Question # 1 - Characters for the ASCII Codes"
   ]
  },
  {
   "cell_type": "code",
   "execution_count": 10,
   "id": "f2895636",
   "metadata": {},
   "outputs": [
    {
     "name": "stdout",
     "output_type": "stream",
     "text": [
      "7\n",
      "8\n",
      "9\n",
      ":\n",
      ";\n",
      "<\n",
      "=\n",
      ">\n",
      "?\n",
      "@\n",
      "A\n",
      "B\n",
      "C\n",
      "D\n",
      "E\n",
      "F\n",
      "\n",
      "\n",
      "G\n",
      "H\n",
      "I\n",
      "J\n",
      "K\n",
      "L\n",
      "M\n",
      "N\n",
      "O\n",
      "P\n",
      "Q\n",
      "R\n",
      "S\n",
      "T\n",
      "U\n",
      "V\n",
      "W\n",
      "X\n",
      "Y\n",
      "Z\n",
      "[\n",
      "\\\n",
      "]\n",
      "^\n",
      "_\n",
      "`\n",
      "a\n",
      "b\n",
      "c\n",
      "d\n",
      "e\n",
      "f\n",
      "g\n",
      "h\n",
      "i\n",
      "j\n",
      "k\n",
      "l\n",
      "m\n",
      "n\n",
      "o\n",
      "p\n",
      "q\n",
      "r\n",
      "s\n",
      "t\n",
      "u\n",
      "v\n",
      "w\n",
      "x\n",
      "y\n",
      "z\n",
      "{\n",
      "|\n",
      "}\n",
      "~\n",
      "\n",
      "\n",
      "\n",
      "\n",
      "\n",
      "\n",
      "",
      "\n",
      "\n",
      "\n",
      "\n",
      "\n",
      "\n",
      "\n",
      "\n",
      "\n",
      "\n",
      "\n",
      "\n",
      "\n",
      "\n",
      "\n",
      "\n",
      "\n",
      "\n",
      "\n",
      "\n",
      "\n",
      "\n",
      "\n",
      "\n",
      "\n",
      "\n",
      "\n",
      " \n",
      "¡\n",
      "¢\n",
      "£\n",
      "¤\n",
      "¥\n",
      "¦\n",
      "§\n",
      "¨\n",
      "©\n",
      "ª\n",
      "«\n",
      "¬\n",
      "­\n",
      "®\n",
      "¯\n",
      "°\n",
      "±\n",
      "²\n",
      "³\n",
      "´\n",
      "µ\n",
      "¶\n"
     ]
    }
   ],
   "source": [
    "count = 0\n",
    "for x in range(0,128):\n",
    "    ch = x - 10\n",
    "    ch = ch + 65\n",
    "    print(chr(ch))\n",
    "    count += 1\n",
    "    if count == 16:\n",
    "        print(\"\\n\")\n",
    "        "
   ]
  },
  {
   "cell_type": "markdown",
   "id": "61c9b8fd",
   "metadata": {},
   "source": [
    "# Question # 2 - Sum of Numbers"
   ]
  },
  {
   "cell_type": "code",
   "execution_count": 7,
   "id": "c2478b7b",
   "metadata": {},
   "outputs": [
    {
     "name": "stdout",
     "output_type": "stream",
     "text": [
      "Enter a positive number: 5\n",
      "Sum of Numbers from 0 till 5 is 15\n"
     ]
    }
   ],
   "source": [
    "num = int(input(\"Enter a positive number: \"))\n",
    "var = num\n",
    "rez = 0\n",
    "if num >= 0:\n",
    "    while num != 0:\n",
    "        rez = rez + num\n",
    "        num-=1\n",
    "else:\n",
    "    print(\"Number entered is less than 0\")\n",
    "    \n",
    "print(\"Sum of Numbers from 0 till\", var, \"is\", rez)"
   ]
  },
  {
   "cell_type": "markdown",
   "id": "bb9c730c",
   "metadata": {},
   "source": [
    "# Question # 3 - Distance Traveled"
   ]
  },
  {
   "cell_type": "code",
   "execution_count": 3,
   "id": "0f6d7200",
   "metadata": {},
   "outputs": [
    {
     "name": "stdout",
     "output_type": "stream",
     "text": [
      "Enter speed of vehicle in mph: \n",
      "40\n",
      "Enter hours vehicle has traveled: \n",
      "3\n",
      "Hour Distance Traveled\n",
      "1 \t\t 40\n",
      "2 \t\t 80\n",
      "3 \t\t 120\n"
     ]
    }
   ],
   "source": [
    "speed = int(input(\"Enter speed of vehicle in mph: \\n\"))\n",
    "hours = int(input(\"Enter hours vehicle has traveled: \\n\"))\n",
    "distance = 0\n",
    "print(\"Hour Distance Traveled\")\n",
    "temp = 1\n",
    "while temp <= hours:\n",
    "    distance = temp * speed\n",
    "    print(temp,\"\\t\\t\",distance)\n",
    "    temp += 1\n",
    "    \n"
   ]
  },
  {
   "cell_type": "markdown",
   "id": "2bcb2f31",
   "metadata": {},
   "source": [
    "# Question # 4 - Celsius to Fahrenheit Table"
   ]
  },
  {
   "cell_type": "code",
   "execution_count": 7,
   "id": "54bfcbc2",
   "metadata": {},
   "outputs": [
    {
     "name": "stdout",
     "output_type": "stream",
     "text": [
      "Celsius\t\t Fahrenheit\t Kelvin\n",
      "0 \t\t 32.0 \t\t 273.15\n",
      "1 \t\t 33.8 \t\t 274.15\n",
      "2 \t\t 35.6 \t\t 275.15\n",
      "3 \t\t 37.4 \t\t 276.15\n",
      "4 \t\t 39.2 \t\t 277.15\n",
      "5 \t\t 41.0 \t\t 278.15\n",
      "6 \t\t 42.8 \t\t 279.15\n",
      "7 \t\t 44.6 \t\t 280.15\n",
      "8 \t\t 46.4 \t\t 281.15\n",
      "9 \t\t 48.2 \t\t 282.15\n",
      "10 \t\t 50.0 \t\t 283.15\n",
      "11 \t\t 51.8 \t\t 284.15\n",
      "12 \t\t 53.6 \t\t 285.15\n",
      "13 \t\t 55.4 \t\t 286.15\n",
      "14 \t\t 57.2 \t\t 287.15\n",
      "15 \t\t 59.0 \t\t 288.15\n",
      "16 \t\t 60.8 \t\t 289.15\n",
      "17 \t\t 62.6 \t\t 290.15\n",
      "18 \t\t 64.4 \t\t 291.15\n",
      "19 \t\t 66.2 \t\t 292.15\n",
      "20 \t\t 68.0 \t\t 293.15\n"
     ]
    }
   ],
   "source": [
    "cel = 0\n",
    "print(\"Celsius\\t\\t Fahrenheit\\t Kelvin\")\n",
    "while cel <= 20:\n",
    "    print(cel,\"\\t\\t\",round(((cel*(9/5))+32), 1),\"\\t\\t\",(cel+273.15))\n",
    "    cel += 1"
   ]
  },
  {
   "cell_type": "markdown",
   "id": "2196a141",
   "metadata": {},
   "source": [
    "# Question # 5 - Speed Conversion Chart"
   ]
  },
  {
   "cell_type": "code",
   "execution_count": 13,
   "id": "e3f22ece",
   "metadata": {},
   "outputs": [
    {
     "name": "stdout",
     "output_type": "stream",
     "text": [
      "Kph\t\tMph\n",
      "60 kph\t\t 37.284 mph\n",
      "65 kph\t\t 40.391 mph\n",
      "70 kph\t\t 43.498 mph\n",
      "75 kph\t\t 46.605 mph\n",
      "80 kph\t\t 49.712 mph\n",
      "85 kph\t\t 52.819 mph\n",
      "90 kph\t\t 55.926 mph\n",
      "95 kph\t\t 59.033 mph\n",
      "100 kph\t\t 62.14 mph\n",
      "105 kph\t\t 65.247 mph\n",
      "110 kph\t\t 68.354 mph\n",
      "115 kph\t\t 71.461 mph\n",
      "120 kph\t\t 74.568 mph\n",
      "125 kph\t\t 77.675 mph\n",
      "130 kph\t\t 80.782 mph\n"
     ]
    }
   ],
   "source": [
    "speed = 60\n",
    "print(\"Kph\\t\\tMph\")\n",
    "while speed <= 130:\n",
    "    print(speed,\"kph\\t\\t\",round((speed*0.6214), 4),\"mph\")\n",
    "    speed += 5"
   ]
  },
  {
   "cell_type": "markdown",
   "id": "ce44efe0",
   "metadata": {},
   "source": [
    "# Question # 6 - Pennies for Pay"
   ]
  },
  {
   "cell_type": "code",
   "execution_count": 10,
   "id": "46f53837",
   "metadata": {},
   "outputs": [
    {
     "name": "stdout",
     "output_type": "stream",
     "text": [
      "Enter the number of days you worked: \n",
      "5\n",
      "Day 1 salary 1.00 $\n",
      "Day 2 salary 2.00 $\n",
      "Day 3 salary 4.00 $\n",
      "Day 4 salary 8.00 $\n",
      "Day 5 salary 16.00 $\n",
      "Total money earned: 16.00 $\n"
     ]
    }
   ],
   "source": [
    "days = int(input(\"Enter the number of days you worked: \\n\"))\n",
    "if days < 1 or days > 31:\n",
    "    print(\"Error Input invalid\")\n",
    "salary = 1\n",
    "temp = 1\n",
    "var = 1\n",
    "while var <= days:\n",
    "    salary = salary * temp\n",
    "    \n",
    "    #for printing 2 decimal places\n",
    "    _format = \"{:.2f}\".format(salary)\n",
    "        \n",
    "    print(\"Day\",var,\"salary\",_format,\"$\")\n",
    "    if temp != 2:\n",
    "        temp += 1\n",
    "    var += 1\n",
    "print(\"Total money earned:\",_format,\"$\")"
   ]
  },
  {
   "cell_type": "markdown",
   "id": "946c26a5",
   "metadata": {},
   "source": [
    "# Question # 7 - Hotel Suites Occupancy"
   ]
  },
  {
   "cell_type": "code",
   "execution_count": 4,
   "id": "d5b4f145",
   "metadata": {
    "scrolled": true
   },
   "outputs": [
    {
     "name": "stdout",
     "output_type": "stream",
     "text": [
      "Enter number of suites occupied on floor: \n",
      "50\n",
      "Invalid no of suites occupied entered\n",
      "Enter number of suites occupied on floor: \n",
      "20\n",
      "Enter number of suites occupied on floor: \n",
      "-5\n",
      "Invalid no of suites occupied entered\n",
      "Enter number of suites occupied on floor: \n",
      "6\n",
      "Enter number of suites occupied on floor: \n",
      "6\n",
      "Enter number of suites occupied on floor: \n",
      "4\n",
      "Total Suites of hotel are 120\n",
      "Occupied Suites are 81\n",
      "Percentage of Suites occupied are 67.5 %\n"
     ]
    }
   ],
   "source": [
    "x = 10\n",
    "total_occupied = 0\n",
    "while x <= 16:\n",
    "    if x == 13:\n",
    "        x += 1\n",
    "        continue\n",
    "    else:\n",
    "        occupied = int(input(\"Enter number of suites occupied on floor: \\n\"))\n",
    "        if occupied < 0 or occupied > 20:\n",
    "            print(\"Invalid no of suites occupied entered\")\n",
    "        total_occupied += occupied\n",
    "        x += 1\n",
    "\n",
    "print(\"Total Suites of hotel are 120\")\n",
    "print(\"Occupied Suites are\", total_occupied)\n",
    "print(\"Percentage of Suites occupied are\", round(((total_occupied/120)*100), 3),\"%\")"
   ]
  },
  {
   "cell_type": "markdown",
   "id": "fdbd0edf",
   "metadata": {},
   "source": [
    "# Question # 8 - Rectangle Display"
   ]
  },
  {
   "cell_type": "code",
   "execution_count": 12,
   "id": "51791c4a",
   "metadata": {},
   "outputs": [
    {
     "name": "stdout",
     "output_type": "stream",
     "text": [
      "Enter length of Rectangle: \n",
      "2\n",
      "Enter width of Rectangle: \n",
      "5\n",
      "\n",
      "The larger value will be taken as length of rectangle\n",
      "X X X X X \n",
      "\n",
      "X X X X X \n",
      "\n"
     ]
    }
   ],
   "source": [
    "length = int(input(\"Enter length of Rectangle: \\n\"))\n",
    "width = int(input(\"Enter width of Rectangle: \\n\"))\n",
    "print(\"\\nThe larger value will be taken as length of rectangle\")\n",
    "if length > width:\n",
    "    for x in range(width):\n",
    "        for y in range(length):\n",
    "            print(\"X\", end = \" \")\n",
    "        print(\"\\n\")\n",
    "            \n",
    "elif width > length:\n",
    "     for x in range(length):\n",
    "        for y in range(width):\n",
    "            print(\"X\", end = \" \")\n",
    "        print(\"\\n\")"
   ]
  },
  {
   "cell_type": "markdown",
   "id": "74e5c6ef",
   "metadata": {},
   "source": [
    "# Question # 9 - Arrowhead Display"
   ]
  },
  {
   "cell_type": "code",
   "execution_count": null,
   "id": "ac29ecd0",
   "metadata": {},
   "outputs": [],
   "source": []
  }
 ],
 "metadata": {
  "kernelspec": {
   "display_name": "Python 3 (ipykernel)",
   "language": "python",
   "name": "python3"
  },
  "language_info": {
   "codemirror_mode": {
    "name": "ipython",
    "version": 3
   },
   "file_extension": ".py",
   "mimetype": "text/x-python",
   "name": "python",
   "nbconvert_exporter": "python",
   "pygments_lexer": "ipython3",
   "version": "3.9.7"
  }
 },
 "nbformat": 4,
 "nbformat_minor": 5
}
